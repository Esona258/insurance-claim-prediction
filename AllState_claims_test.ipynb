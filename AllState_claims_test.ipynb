{
 "cells": [
  {
   "cell_type": "code",
   "execution_count": 1,
   "id": "d3678387-fde6-4979-a61d-584c5e1bc408",
   "metadata": {},
   "outputs": [
    {
     "data": {
      "text/plain": [
       "'!pip install Flask==1.1.2\\n!pip install matplotlib==3.3.4\\n!pip install numpy==1.20.1\\n!pip install pandas==1.3.5\\n!pip install scikit_learn==0.24.1\\n!pip install seaborn==0.11.1'"
      ]
     },
     "execution_count": 1,
     "metadata": {},
     "output_type": "execute_result"
    }
   ],
   "source": [
    "\"\"\"!pip install Flask==1.1.2\n",
    "!pip install matplotlib==3.3.4\n",
    "!pip install numpy==1.20.1\n",
    "!pip install pandas==1.3.5\n",
    "!pip install scikit_learn==0.24.1\n",
    "!pip install seaborn==0.11.1\"\"\""
   ]
  },
  {
   "cell_type": "code",
   "execution_count": 2,
   "id": "8a670e72-cdea-4894-aa23-7fcf886ff86d",
   "metadata": {},
   "outputs": [],
   "source": [
    "import pandas as pd\n",
    "import pickle\n",
    "import numpy as np"
   ]
  },
  {
   "cell_type": "code",
   "execution_count": 3,
   "id": "89339d02-2d70-42d0-8071-c91c94649464",
   "metadata": {},
   "outputs": [],
   "source": [
    "from zipfile import ZipFile\n",
    "import urllib.request\n",
    "from io import BytesIO"
   ]
  },
  {
   "cell_type": "code",
   "execution_count": 4,
   "id": "41a4b96b-740c-4a60-aa45-a31ddcd87c88",
   "metadata": {},
   "outputs": [
    {
     "data": {
      "text/plain": [
       "['test.csv',\n",
       " '__MACOSX/',\n",
       " '__MACOSX/._test.csv',\n",
       " 'train.csv',\n",
       " '__MACOSX/._train.csv',\n",
       " 'test_data_subset.csv',\n",
       " '__MACOSX/._test_data_subset.csv']"
      ]
     },
     "execution_count": 4,
     "metadata": {},
     "output_type": "execute_result"
    }
   ],
   "source": [
    "folder = urllib.request.urlopen('https://s3.amazonaws.com/hackerday.datascience/50/dataset.zip')\n",
    "zipfile = ZipFile(BytesIO(folder.read()))\n",
    "zipfile.namelist()"
   ]
  },
  {
   "cell_type": "code",
   "execution_count": 5,
   "id": "e1c23a73-2102-4584-97fe-4bb040557cc0",
   "metadata": {},
   "outputs": [],
   "source": [
    "test_data = pd.read_csv(zipfile.open(\"test_data_subset.csv\"))    "
   ]
  },
  {
   "cell_type": "code",
   "execution_count": 9,
   "id": "a9625d82-5c5c-45a3-b014-e07f85cade68",
   "metadata": {},
   "outputs": [],
   "source": [
    "#load the columns to drop file\n",
    "columns_to_drop=pd.read_csv(\"columns_to_drop.csv\")\n",
    "columns_to_Retain = list(set(test_data.columns.values) - set(columns_to_drop.colnames.values))\n",
    "test_data = test_data[columns_to_Retain]\n",
    "\n",
    "column_datatypes = test_data.dtypes\n",
    "categorical_columns = list(column_datatypes[column_datatypes==\"object\"].index.values)"
   ]
  },
  {
   "cell_type": "code",
   "execution_count": 11,
   "id": "04d86e1f-5996-4732-95cd-bd41f6481c4f",
   "metadata": {},
   "outputs": [],
   "source": [
    "# 1. Ensure `test_data` is an explicit copy before modification:\n",
    "test_data = test_data.copy()\n",
    "\n",
    "# 2. Then loop and use .loc for safe assignment:\n",
    "for cf1 in categorical_columns:\n",
    "    filename = cf1 + \".sav\"\n",
    "    le = pickle.load(open(filename, 'rb'))\n",
    "    le_dict = dict(zip(le.classes_, le.transform(le.classes_)))\n",
    "    \n",
    "    test_data.loc[:, cf1] = test_data[cf1].map(lambda x: le_dict.get(x, -1))\n"
   ]
  },
  {
   "cell_type": "code",
   "execution_count": 12,
   "id": "60f23686-a113-420f-b2d1-00c36f7f4fac",
   "metadata": {},
   "outputs": [],
   "source": [
    "test_data_id = test_data['id']\n",
    "test_data = test_data.drop('id',axis=1)"
   ]
  },
  {
   "cell_type": "code",
   "execution_count": 13,
   "id": "34180f6e-fc22-49e2-9e77-a4cc02ace7b8",
   "metadata": {},
   "outputs": [],
   "source": [
    "Column_datatypes= test_data.dtypes\n",
    "Integer_columns = list(Column_datatypes.where(lambda x: x ==\"int64\").dropna().index.values)\n",
    "#convert the int64 columns categorical\n",
    "test_data[Integer_columns] = test_data[Integer_columns].astype('category',copy=False)"
   ]
  },
  {
   "cell_type": "code",
   "execution_count": 14,
   "id": "7fe61174-321d-4347-998b-fb83ec3d8373",
   "metadata": {},
   "outputs": [],
   "source": [
    "#load the saved model and predict on the test data\n",
    "tunedmodel_rf = pickle.load(open(\"tunedmodel_rf\", 'rb'))"
   ]
  },
  {
   "cell_type": "code",
   "execution_count": 17,
   "id": "52e2559c-f4f9-4ed4-b0f9-4bc236c17fe9",
   "metadata": {},
   "outputs": [],
   "source": [
    "train_cols = tunedmodel_rf.best_estimator_.feature_names_in_\n",
    "\n",
    "# Align order and columns\n",
    "test_data = test_data.copy()\n",
    "test_data = test_data.reindex(columns=train_cols, fill_value=0)\n",
    "\n",
    "# Confirm alignment\n",
    "assert list(test_data.columns) == list(train_cols)\n",
    "\n",
    "# Now safe to predict\n",
    "y_test_predict = tunedmodel_rf.predict(test_data)\n",
    "test_data['predict_loss'] = y_test_predict\n",
    "test_data['id'] = test_data_id\n",
    "test_data = test_data[['id', 'predict_loss']]\n"
   ]
  },
  {
   "cell_type": "code",
   "execution_count": 18,
   "id": "112e5645-389d-45e2-92c8-82d4f48c2e5d",
   "metadata": {},
   "outputs": [
    {
     "data": {
      "text/html": [
       "<div>\n",
       "<style scoped>\n",
       "    .dataframe tbody tr th:only-of-type {\n",
       "        vertical-align: middle;\n",
       "    }\n",
       "\n",
       "    .dataframe tbody tr th {\n",
       "        vertical-align: top;\n",
       "    }\n",
       "\n",
       "    .dataframe thead th {\n",
       "        text-align: right;\n",
       "    }\n",
       "</style>\n",
       "<table border=\"1\" class=\"dataframe\">\n",
       "  <thead>\n",
       "    <tr style=\"text-align: right;\">\n",
       "      <th></th>\n",
       "      <th>id</th>\n",
       "      <th>predict_loss</th>\n",
       "    </tr>\n",
       "  </thead>\n",
       "  <tbody>\n",
       "    <tr>\n",
       "      <th>0</th>\n",
       "      <td>4</td>\n",
       "      <td>7.213629</td>\n",
       "    </tr>\n",
       "    <tr>\n",
       "      <th>1</th>\n",
       "      <td>6</td>\n",
       "      <td>7.492909</td>\n",
       "    </tr>\n",
       "    <tr>\n",
       "      <th>2</th>\n",
       "      <td>9</td>\n",
       "      <td>7.268176</td>\n",
       "    </tr>\n",
       "    <tr>\n",
       "      <th>3</th>\n",
       "      <td>12</td>\n",
       "      <td>7.206299</td>\n",
       "    </tr>\n",
       "    <tr>\n",
       "      <th>4</th>\n",
       "      <td>15</td>\n",
       "      <td>7.215372</td>\n",
       "    </tr>\n",
       "  </tbody>\n",
       "</table>\n",
       "</div>"
      ],
      "text/plain": [
       "   id  predict_loss\n",
       "0   4      7.213629\n",
       "1   6      7.492909\n",
       "2   9      7.268176\n",
       "3  12      7.206299\n",
       "4  15      7.215372"
      ]
     },
     "execution_count": 18,
     "metadata": {},
     "output_type": "execute_result"
    }
   ],
   "source": [
    "test_data"
   ]
  },
  {
   "cell_type": "code",
   "execution_count": null,
   "id": "23980f8f-47a8-4f7e-91f4-6d73102b210e",
   "metadata": {},
   "outputs": [],
   "source": []
  }
 ],
 "metadata": {
  "kernelspec": {
   "display_name": "Python 3 (ipykernel)",
   "language": "python",
   "name": "python3"
  },
  "language_info": {
   "codemirror_mode": {
    "name": "ipython",
    "version": 3
   },
   "file_extension": ".py",
   "mimetype": "text/x-python",
   "name": "python",
   "nbconvert_exporter": "python",
   "pygments_lexer": "ipython3",
   "version": "3.13.0"
  }
 },
 "nbformat": 4,
 "nbformat_minor": 5
}
